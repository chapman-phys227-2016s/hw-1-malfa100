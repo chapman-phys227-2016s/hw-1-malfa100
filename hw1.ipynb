{
 "cells": [
  {
   "cell_type": "code",
   "execution_count": 1,
   "metadata": {
    "collapsed": false
   },
   "outputs": [],
   "source": [
    "import adaptive_trapezint_new as p1\n",
    "import sinesum1_new as p2\n",
    "import centered_diff_new as p3\n",
    "import find_primes_new as p4"
   ]
  },
  {
   "cell_type": "markdown",
   "metadata": {},
   "source": [
    "# Homework 1\n",
    "## Andrew Malfavon"
   ]
  },
  {
   "cell_type": "markdown",
   "metadata": {},
   "source": [
    "### note: file name changes are due to sage being weird while trying to upload."
   ]
  },
  {
   "cell_type": "markdown",
   "metadata": {},
   "source": [
    "### Exercise 3.8 $\\mathit{Make\\ an\\ adaptive\\ trapezoidal\\ rule.}$ (adaptive_trapezint.py)"
   ]
  },
  {
   "cell_type": "markdown",
   "metadata": {},
   "source": [
    "Improves on the trapezoidal integration rule by creating a method to determine an apropriate $n$ trapezoids. The table shows the error of the estimation and the calculated $n$ for three different cases."
   ]
  },
  {
   "cell_type": "code",
   "execution_count": 2,
   "metadata": {
    "collapsed": false
   },
   "outputs": [
    {
     "name": "stdout",
     "output_type": "stream",
     "text": [
      "    Function                    Error            Estimated n\n",
      "cos(x) from 0 to pi        1.70002900646e-16        508\n",
      "sin(x) from 0 to pi        6.37413631988e-06        508\n",
      "sin(x) from 0 to pi/2      6.41730976758e-06        179\n"
     ]
    }
   ],
   "source": [
    "p1.table()"
   ]
  },
  {
   "cell_type": "markdown",
   "metadata": {
    "collapsed": true
   },
   "source": [
    "### Exercise 3.15 $\\mathit{Approximate\\ a\\ function\\ by\\ a\\ sum\\ of\\ sines.}$ (sinesum1.py)"
   ]
  },
  {
   "cell_type": "markdown",
   "metadata": {},
   "source": [
    "Consider the following piecwise function:"
   ]
  },
  {
   "cell_type": "markdown",
   "metadata": {},
   "source": [
    "$\n",
    "  f(t) = \\left\\{\\def\\arraystretch{1.2}%\n",
    "  \\begin{array}{@{}c@{\\quad}l@{}}\n",
    "    1 & 0<t<\\frac{T}{2}\\\\\n",
    "    0 & t=\\frac{T}{2}\\\\\n",
    "    -1 & \\frac{T}{2}<t<T\\\\\n",
    "  \\end{array}\\right.\n",
    "$"
   ]
  },
  {
   "cell_type": "markdown",
   "metadata": {},
   "source": [
    "Approximate $f(t)$ by the sum $$S(t,n)= \\frac{4}{\\pi} \\sum_{i=1}^{n} \\frac{1}{2i-1} sin{\\frac{2(2i-1)\\pi t}{T}}$$"
   ]
  },
  {
   "cell_type": "markdown",
   "metadata": {},
   "source": [
    "Display the error $f(t)-S(t,n)$ for various $n$ and $\\alpha$, given that $t=\\alpha T$ and $T=2 \\pi$. Use $n=1,3,5,10,30,100$ and $\\alpha = 0.01, 0.25, 0.49$."
   ]
  },
  {
   "cell_type": "code",
   "execution_count": 3,
   "metadata": {
    "collapsed": false
   },
   "outputs": [
    {
     "name": "stdout",
     "output_type": "stream",
     "text": [
      "                alpha = 0.01        alpha = 0.25            alpha = 0.49    \n",
      "n = 1:        0.920052627501        -0.273239544735        0.920052627501\n",
      "n = 3:        0.761834996162        -0.103474272104        0.761834996162\n",
      "n = 5:        0.608585435311        -0.0630539690963        0.608585435311\n",
      "n = 10:        0.266797434877        0.0317523771092        0.266797434877\n",
      "n = 30:        -0.14481610778        0.0106073863054        -0.14481610778\n",
      "n = 100:        0.050094008341        0.00318301929431        0.050094008341\n"
     ]
    }
   ],
   "source": [
    "p2.table()"
   ]
  },
  {
   "cell_type": "markdown",
   "metadata": {
    "collapsed": true
   },
   "source": [
    "### Exercise 3.18 $\\mathit{Write\\ a\\ function\\ for\\ numerical\\ differentiation.}$ (centered_dif.py)"
   ]
  },
  {
   "cell_type": "markdown",
   "metadata": {},
   "source": [
    "The formula\n",
    "$$f'(x) \\approx \\frac{f(x+h)-f(x-h)}{2h}$$\n",
    "approximates a derivative a function $f(x)$ if $h$ is small.\n",
    "Use $h=0.01$ and show the error for the approximations of the following functions:"
   ]
  },
  {
   "cell_type": "markdown",
   "metadata": {},
   "source": [
    "$$f(x) = e^{x}\\ \\textrm{at}\\ x=0$$\n",
    "$$f(x) = e^{-2x^{2}}\\ \\textrm{at}\\ x=0$$\n",
    "$$f(x) = cos(x)\\ \\textrm{at}\\ x=2\\pi$$\n",
    "$$f(x) = \\ln x\\ \\textrm{at}\\ x=1$$"
   ]
  },
  {
   "cell_type": "code",
   "execution_count": 4,
   "metadata": {
    "collapsed": false
   },
   "outputs": [
    {
     "name": "stdout",
     "output_type": "stream",
     "text": [
      "Function                    Error\n",
      "exp(x) at x=0            -1.66667499921e-05\n",
      "exp(-2x^2) at x=0            0.0\n",
      "cos(x) at x=2*pi            0.0\n",
      "ln(x) at x=1            -3.33353334772e-05\n"
     ]
    }
   ],
   "source": [
    "p3.table()"
   ]
  },
  {
   "cell_type": "markdown",
   "metadata": {},
   "source": [
    "### Exercise  3.34 $\\mathit{Find\\ prime\\ numbers.}$ (find_primes.py)"
   ]
  },
  {
   "cell_type": "markdown",
   "metadata": {},
   "source": [
    "Use the $\\mathit{Sieve\\ of\\ Eratosthenes}$ to find prime numbers less than or equal to a number $N$."
   ]
  },
  {
   "cell_type": "code",
   "execution_count": 5,
   "metadata": {
    "collapsed": false
   },
   "outputs": [
    {
     "name": "stdout",
     "output_type": "stream",
     "text": [
      "[2, 3, 5, 7]\n"
     ]
    }
   ],
   "source": [
    "print p4.find_primes(10)"
   ]
  },
  {
   "cell_type": "code",
   "execution_count": 6,
   "metadata": {
    "collapsed": false
   },
   "outputs": [
    {
     "name": "stdout",
     "output_type": "stream",
     "text": [
      "[2, 3, 5, 7, 11, 13, 17, 19, 23, 29, 31, 37, 41, 43, 47]\n"
     ]
    }
   ],
   "source": [
    "print p4.find_primes(50)"
   ]
  },
  {
   "cell_type": "code",
   "execution_count": 7,
   "metadata": {
    "collapsed": false
   },
   "outputs": [
    {
     "name": "stdout",
     "output_type": "stream",
     "text": [
      "[2, 3, 5, 7, 11, 13, 17, 19, 23, 29, 31, 37, 41, 43, 47, 53, 59, 61, 67, 71, 73, 79, 83, 89, 97]\n"
     ]
    }
   ],
   "source": [
    "print p4.find_primes(100)"
   ]
  },
  {
   "cell_type": "code",
   "execution_count": null,
   "metadata": {
    "collapsed": true
   },
   "outputs": [],
   "source": []
  }
 ],
 "metadata": {
  "kernelspec": {
   "display_name": "Python 2 (SageMath)",
   "language": "python",
   "name": "python2"
  },
  "language_info": {
   "codemirror_mode": {
    "name": "ipython",
    "version": 2
   },
   "file_extension": ".py",
   "mimetype": "text/x-python",
   "name": "python",
   "nbconvert_exporter": "python",
   "pygments_lexer": "ipython2",
   "version": "2.7.10"
  }
 },
 "nbformat": 4,
 "nbformat_minor": 0
}
